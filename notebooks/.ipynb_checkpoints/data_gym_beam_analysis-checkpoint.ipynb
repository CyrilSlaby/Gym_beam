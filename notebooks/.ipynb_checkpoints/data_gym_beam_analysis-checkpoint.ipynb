{
 "cells": [
  {
   "cell_type": "code",
   "execution_count": null,
   "metadata": {},
   "outputs": [],
   "source": [
    "import pandas as pd\n",
    "import re\n",
    "\n",
    "# Definovanie stĺpcov, pretože pôvodné dáta ich neobsahujú\n",
    "columns = ['ID', 'Názov', 'Popis', 'Kategória', 'Cena', 'Recenzie']\n",
    "\n",
    "# Načítanie CSV dát do DataFrame\n",
    "df = pd.read_csv('data.csv', header=None, names=columns)\n",
    "\n",
    "# Zobrazenie prvých riadkov dát\n",
    "print(\"Pôvodné Dáta:\")\n",
    "print(df.head())\n",
    "\n",
    "# Funkcia na čistenie textu\n",
    "def clean_text(text):\n",
    "    text = text.lower()  # Zmena na malé písmená\n",
    "    text = re.sub(r'\\W+', ' ', text)  # Odstránenie špeciálnych znakov\n",
    "    return text\n",
    "\n",
    "# Aplikácia čistenia na stĺpce 'Názov' a 'Popis'\n",
    "df['Názov'] = df['Názov'].apply(clean_text)\n",
    "df['Popis'] = df['Popis'].apply(clean_text)\n",
    "\n",
    "# Odstránenie duplicitných záznamov (ak existujú)\n",
    "df = df.drop_duplicates()\n",
    "\n",
    "# Zobrazenie čistých dát\n",
    "print(\"\\nČisté Dáta:\")\n",
    "print(df.head())"
   ]
  }
 ],
 "metadata": {
  "kernelspec": {
   "display_name": "Python 3 (ipykernel)",
   "language": "python",
   "name": "python3"
  },
  "language_info": {
   "codemirror_mode": {
    "name": "ipython",
    "version": 3
   },
   "file_extension": ".py",
   "mimetype": "text/x-python",
   "name": "python",
   "nbconvert_exporter": "python",
   "pygments_lexer": "ipython3",
   "version": "3.11.1"
  }
 },
 "nbformat": 4,
 "nbformat_minor": 2
}
